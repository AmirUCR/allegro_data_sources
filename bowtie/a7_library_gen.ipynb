{
 "cells": [
  {
   "cell_type": "code",
   "execution_count": 1,
   "metadata": {},
   "outputs": [],
   "source": [
    "import pandas as pd\n",
    "\n",
    "df = pd.read_csv('a7_ns_to_drive.csv')\n",
    "\n",
    "targets = ['kluyveromyces_marxianus', 'saccharomyces_cerevisiae', 'yarrowia_lipolytica', 'komagataella_phaffii']\n",
    "\n",
    "for t in targets:\n",
    "    df[df['target'] == t].to_csv(f'{t}/{t}_a7_library.csv')\n",
    "\n",
    "    guides = df[df['target'] == t]['sequence'].values.tolist()\n",
    "\n",
    "    guides_w_pam = dict()\n",
    "    for g in guides:\n",
    "        with_pam = [g + pam for pam in ['AGG', 'CGG', 'TGG', 'GGG']]\n",
    "\n",
    "        for wp in with_pam:\n",
    "            guides_w_pam[wp] = g\n",
    "\n",
    "    with open(f'{t}/{t}_a7_reads.fq', 'w') as f:\n",
    "        for idx, guide in enumerate(guides_w_pam.keys()):\n",
    "            f.write(f'@READ_{idx+1}\\n')\n",
    "            f.write(guide + '\\n')\n",
    "            f.write('+\\n')\n",
    "            f.write('IIIIIIIIIIIIIIIIIIIIIII\\n')"
   ]
  }
 ],
 "metadata": {
  "kernelspec": {
   "display_name": "allegro",
   "language": "python",
   "name": "python3"
  },
  "language_info": {
   "codemirror_mode": {
    "name": "ipython",
    "version": 3
   },
   "file_extension": ".py",
   "mimetype": "text/x-python",
   "name": "python",
   "nbconvert_exporter": "python",
   "pygments_lexer": "ipython3",
   "version": "3.10.4"
  },
  "orig_nbformat": 4
 },
 "nbformat": 4,
 "nbformat_minor": 2
}
