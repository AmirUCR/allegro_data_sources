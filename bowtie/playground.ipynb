{
 "cells": [
  {
   "cell_type": "code",
   "execution_count": 22,
   "metadata": {},
   "outputs": [],
   "source": [
    "import pandas as pd\n",
    "\n",
    "df = pd.read_csv('a7_ns_to_drive.csv')"
   ]
  },
  {
   "cell_type": "code",
   "execution_count": 23,
   "metadata": {},
   "outputs": [
    {
     "data": {
      "text/plain": [
       "2434"
      ]
     },
     "execution_count": 23,
     "metadata": {},
     "output_type": "execute_result"
    }
   ],
   "source": [
    "len(df['target'].unique())"
   ]
  },
  {
   "cell_type": "code",
   "execution_count": 34,
   "metadata": {},
   "outputs": [
    {
     "data": {
      "text/html": [
       "<div>\n",
       "<style scoped>\n",
       "    .dataframe tbody tr th:only-of-type {\n",
       "        vertical-align: middle;\n",
       "    }\n",
       "\n",
       "    .dataframe tbody tr th {\n",
       "        vertical-align: top;\n",
       "    }\n",
       "\n",
       "    .dataframe thead th {\n",
       "        text-align: right;\n",
       "    }\n",
       "</style>\n",
       "<table border=\"1\" class=\"dataframe\">\n",
       "  <thead>\n",
       "    <tr style=\"text-align: right;\">\n",
       "      <th></th>\n",
       "      <th>sequence</th>\n",
       "      <th>target</th>\n",
       "      <th>score</th>\n",
       "      <th>chromosome_or_gene</th>\n",
       "      <th>strand</th>\n",
       "      <th>start_position</th>\n",
       "      <th>end_position</th>\n",
       "      <th>orthologous_to</th>\n",
       "      <th>misc</th>\n",
       "      <th>path</th>\n",
       "      <th>cluster</th>\n",
       "    </tr>\n",
       "  </thead>\n",
       "  <tbody>\n",
       "    <tr>\n",
       "      <th>5187</th>\n",
       "      <td>ATGACGACGTTCATGACAGA</td>\n",
       "      <td>yarrowia_lipolytica</td>\n",
       "      <td>1.0</td>\n",
       "      <td>XP_500977.1</td>\n",
       "      <td>RC</td>\n",
       "      <td>667</td>\n",
       "      <td>687</td>\n",
       "      <td>GAP1</td>\n",
       "      <td>Protein: XP_500977.1</td>\n",
       "      <td>yarrowia_lipolytica_cds.fna</td>\n",
       "      <td>297</td>\n",
       "    </tr>\n",
       "    <tr>\n",
       "      <th>7827</th>\n",
       "      <td>CACTCTGCCACCAAGTGGAT</td>\n",
       "      <td>yarrowia_lipolytica</td>\n",
       "      <td>1.0</td>\n",
       "      <td>XP_503263.1</td>\n",
       "      <td>F</td>\n",
       "      <td>606</td>\n",
       "      <td>626</td>\n",
       "      <td>MET17</td>\n",
       "      <td>Protein: XP_503263.1</td>\n",
       "      <td>yarrowia_lipolytica_cds.fna</td>\n",
       "      <td>389</td>\n",
       "    </tr>\n",
       "    <tr>\n",
       "      <th>8532</th>\n",
       "      <td>CATCTCCAGATGATTGCCAT</td>\n",
       "      <td>yarrowia_lipolytica</td>\n",
       "      <td>1.0</td>\n",
       "      <td>XP_500977.1</td>\n",
       "      <td>F</td>\n",
       "      <td>204</td>\n",
       "      <td>224</td>\n",
       "      <td>GAP1</td>\n",
       "      <td>Protein: XP_500977.1</td>\n",
       "      <td>yarrowia_lipolytica_cds.fna</td>\n",
       "      <td>421</td>\n",
       "    </tr>\n",
       "    <tr>\n",
       "      <th>9623</th>\n",
       "      <td>CCAAAGGTCTCAGCCATCCA</td>\n",
       "      <td>yarrowia_lipolytica</td>\n",
       "      <td>1.0</td>\n",
       "      <td>XP_503627.1</td>\n",
       "      <td>RC</td>\n",
       "      <td>2836</td>\n",
       "      <td>2856</td>\n",
       "      <td>LYS2</td>\n",
       "      <td>Protein: XP_503627.1</td>\n",
       "      <td>yarrowia_lipolytica_cds.fna</td>\n",
       "      <td>437</td>\n",
       "    </tr>\n",
       "    <tr>\n",
       "      <th>11293</th>\n",
       "      <td>CTCCAGATGATTGCCATCGG</td>\n",
       "      <td>yarrowia_lipolytica</td>\n",
       "      <td>1.0</td>\n",
       "      <td>XP_500977.1</td>\n",
       "      <td>F</td>\n",
       "      <td>207</td>\n",
       "      <td>227</td>\n",
       "      <td>GAP1</td>\n",
       "      <td>Protein: XP_500977.1</td>\n",
       "      <td>yarrowia_lipolytica_cds.fna</td>\n",
       "      <td>533</td>\n",
       "    </tr>\n",
       "    <tr>\n",
       "      <th>16024</th>\n",
       "      <td>GATGACCAGGTGAAGATTCG</td>\n",
       "      <td>yarrowia_lipolytica</td>\n",
       "      <td>1.0</td>\n",
       "      <td>XP_503627.1</td>\n",
       "      <td>F</td>\n",
       "      <td>2157</td>\n",
       "      <td>2177</td>\n",
       "      <td>LYS2</td>\n",
       "      <td>Protein: XP_503627.1</td>\n",
       "      <td>yarrowia_lipolytica_cds.fna</td>\n",
       "      <td>648</td>\n",
       "    </tr>\n",
       "    <tr>\n",
       "      <th>22749</th>\n",
       "      <td>TCTGCCACCAAGTGGATCGG</td>\n",
       "      <td>yarrowia_lipolytica</td>\n",
       "      <td>1.0</td>\n",
       "      <td>XP_503263.1</td>\n",
       "      <td>F</td>\n",
       "      <td>609</td>\n",
       "      <td>629</td>\n",
       "      <td>MET17</td>\n",
       "      <td>Protein: XP_503263.1</td>\n",
       "      <td>yarrowia_lipolytica_cds.fna</td>\n",
       "      <td>1038</td>\n",
       "    </tr>\n",
       "  </tbody>\n",
       "</table>\n",
       "</div>"
      ],
      "text/plain": [
       "                   sequence               target  score chromosome_or_gene  \\\n",
       "5187   ATGACGACGTTCATGACAGA  yarrowia_lipolytica    1.0        XP_500977.1   \n",
       "7827   CACTCTGCCACCAAGTGGAT  yarrowia_lipolytica    1.0        XP_503263.1   \n",
       "8532   CATCTCCAGATGATTGCCAT  yarrowia_lipolytica    1.0        XP_500977.1   \n",
       "9623   CCAAAGGTCTCAGCCATCCA  yarrowia_lipolytica    1.0        XP_503627.1   \n",
       "11293  CTCCAGATGATTGCCATCGG  yarrowia_lipolytica    1.0        XP_500977.1   \n",
       "16024  GATGACCAGGTGAAGATTCG  yarrowia_lipolytica    1.0        XP_503627.1   \n",
       "22749  TCTGCCACCAAGTGGATCGG  yarrowia_lipolytica    1.0        XP_503263.1   \n",
       "\n",
       "      strand  start_position  end_position orthologous_to  \\\n",
       "5187      RC             667           687           GAP1   \n",
       "7827       F             606           626          MET17   \n",
       "8532       F             204           224           GAP1   \n",
       "9623      RC            2836          2856           LYS2   \n",
       "11293      F             207           227           GAP1   \n",
       "16024      F            2157          2177           LYS2   \n",
       "22749      F             609           629          MET17   \n",
       "\n",
       "                       misc                         path  cluster  \n",
       "5187   Protein: XP_500977.1  yarrowia_lipolytica_cds.fna      297  \n",
       "7827   Protein: XP_503263.1  yarrowia_lipolytica_cds.fna      389  \n",
       "8532   Protein: XP_500977.1  yarrowia_lipolytica_cds.fna      421  \n",
       "9623   Protein: XP_503627.1  yarrowia_lipolytica_cds.fna      437  \n",
       "11293  Protein: XP_500977.1  yarrowia_lipolytica_cds.fna      533  \n",
       "16024  Protein: XP_503627.1  yarrowia_lipolytica_cds.fna      648  \n",
       "22749  Protein: XP_503263.1  yarrowia_lipolytica_cds.fna     1038  "
      ]
     },
     "execution_count": 34,
     "metadata": {},
     "output_type": "execute_result"
    }
   ],
   "source": [
    "df[df['target'] == 'yarrowia_lipolytica']"
   ]
  },
  {
   "cell_type": "code",
   "execution_count": 35,
   "metadata": {},
   "outputs": [],
   "source": [
    "df[df['target'] == 'yarrowia_lipolytica'].to_csv('y_lipolytica_a7_library.csv')"
   ]
  },
  {
   "cell_type": "code",
   "execution_count": 36,
   "metadata": {},
   "outputs": [
    {
     "data": {
      "text/plain": [
       "['ATGACGACGTTCATGACAGA',\n",
       " 'CACTCTGCCACCAAGTGGAT',\n",
       " 'CATCTCCAGATGATTGCCAT',\n",
       " 'CCAAAGGTCTCAGCCATCCA',\n",
       " 'CTCCAGATGATTGCCATCGG',\n",
       " 'GATGACCAGGTGAAGATTCG',\n",
       " 'TCTGCCACCAAGTGGATCGG']"
      ]
     },
     "execution_count": 36,
     "metadata": {},
     "output_type": "execute_result"
    }
   ],
   "source": [
    "km_guides = df[df['target'] == 'yarrowia_lipolytica']['sequence'].values.tolist()\n",
    "km_guides"
   ]
  },
  {
   "cell_type": "code",
   "execution_count": 37,
   "metadata": {},
   "outputs": [
    {
     "data": {
      "text/plain": [
       "{'ATGACGACGTTCATGACAGAAGG': 'ATGACGACGTTCATGACAGA',\n",
       " 'ATGACGACGTTCATGACAGACGG': 'ATGACGACGTTCATGACAGA',\n",
       " 'ATGACGACGTTCATGACAGATGG': 'ATGACGACGTTCATGACAGA',\n",
       " 'ATGACGACGTTCATGACAGAGGG': 'ATGACGACGTTCATGACAGA',\n",
       " 'CACTCTGCCACCAAGTGGATAGG': 'CACTCTGCCACCAAGTGGAT',\n",
       " 'CACTCTGCCACCAAGTGGATCGG': 'CACTCTGCCACCAAGTGGAT',\n",
       " 'CACTCTGCCACCAAGTGGATTGG': 'CACTCTGCCACCAAGTGGAT',\n",
       " 'CACTCTGCCACCAAGTGGATGGG': 'CACTCTGCCACCAAGTGGAT',\n",
       " 'CATCTCCAGATGATTGCCATAGG': 'CATCTCCAGATGATTGCCAT',\n",
       " 'CATCTCCAGATGATTGCCATCGG': 'CATCTCCAGATGATTGCCAT',\n",
       " 'CATCTCCAGATGATTGCCATTGG': 'CATCTCCAGATGATTGCCAT',\n",
       " 'CATCTCCAGATGATTGCCATGGG': 'CATCTCCAGATGATTGCCAT',\n",
       " 'CCAAAGGTCTCAGCCATCCAAGG': 'CCAAAGGTCTCAGCCATCCA',\n",
       " 'CCAAAGGTCTCAGCCATCCACGG': 'CCAAAGGTCTCAGCCATCCA',\n",
       " 'CCAAAGGTCTCAGCCATCCATGG': 'CCAAAGGTCTCAGCCATCCA',\n",
       " 'CCAAAGGTCTCAGCCATCCAGGG': 'CCAAAGGTCTCAGCCATCCA',\n",
       " 'CTCCAGATGATTGCCATCGGAGG': 'CTCCAGATGATTGCCATCGG',\n",
       " 'CTCCAGATGATTGCCATCGGCGG': 'CTCCAGATGATTGCCATCGG',\n",
       " 'CTCCAGATGATTGCCATCGGTGG': 'CTCCAGATGATTGCCATCGG',\n",
       " 'CTCCAGATGATTGCCATCGGGGG': 'CTCCAGATGATTGCCATCGG',\n",
       " 'GATGACCAGGTGAAGATTCGAGG': 'GATGACCAGGTGAAGATTCG',\n",
       " 'GATGACCAGGTGAAGATTCGCGG': 'GATGACCAGGTGAAGATTCG',\n",
       " 'GATGACCAGGTGAAGATTCGTGG': 'GATGACCAGGTGAAGATTCG',\n",
       " 'GATGACCAGGTGAAGATTCGGGG': 'GATGACCAGGTGAAGATTCG',\n",
       " 'TCTGCCACCAAGTGGATCGGAGG': 'TCTGCCACCAAGTGGATCGG',\n",
       " 'TCTGCCACCAAGTGGATCGGCGG': 'TCTGCCACCAAGTGGATCGG',\n",
       " 'TCTGCCACCAAGTGGATCGGTGG': 'TCTGCCACCAAGTGGATCGG',\n",
       " 'TCTGCCACCAAGTGGATCGGGGG': 'TCTGCCACCAAGTGGATCGG'}"
      ]
     },
     "execution_count": 37,
     "metadata": {},
     "output_type": "execute_result"
    }
   ],
   "source": [
    "km_guides_w_pam = dict()\n",
    "\n",
    "for g in km_guides:\n",
    "    with_pam = [g + pam for pam in ['AGG', 'CGG', 'TGG', 'GGG']]\n",
    "\n",
    "    for wp in with_pam:\n",
    "        km_guides_w_pam[wp] = g\n",
    "\n",
    "km_guides_w_pam"
   ]
  },
  {
   "cell_type": "code",
   "execution_count": 38,
   "metadata": {},
   "outputs": [],
   "source": [
    "with open('y_lipolytica_reads.fq', 'w') as f:\n",
    "    for idx, guide in enumerate(km_guides_w_pam.keys()):\n",
    "        f.write(f'@READ_{idx+1}\\n')\n",
    "        f.write(guide + '\\n')\n",
    "        f.write('+\\n')\n",
    "        f.write('IIIIIIIIIIIIIIIIIIIIIII\\n')"
   ]
  },
  {
   "cell_type": "markdown",
   "metadata": {},
   "source": [
    "take out the guides that target the 4 species kpha, scer, yarli, kmarx - done\n",
    "\n",
    "For each guide, append AGG CGG GGG TGG to generate a large list of sequences to align. - done\n",
    "\n",
    "Get the genome and full CDS files for the 4 species of interest kphaffii, scer, yarli, kmarx -- done\n",
    "\n",
    "generate bowtie index for each file -- done\n",
    "\n",
    "run bowtie for exact matching hits\n",
    "run bowtie for 1, 2 partial matching hits\n",
    "\n",
    "analysis"
   ]
  }
 ],
 "metadata": {
  "kernelspec": {
   "display_name": "allegro",
   "language": "python",
   "name": "python3"
  },
  "language_info": {
   "codemirror_mode": {
    "name": "ipython",
    "version": 3
   },
   "file_extension": ".py",
   "mimetype": "text/x-python",
   "name": "python",
   "nbconvert_exporter": "python",
   "pygments_lexer": "ipython3",
   "version": "3.10.4"
  },
  "orig_nbformat": 4
 },
 "nbformat": 4,
 "nbformat_minor": 2
}
