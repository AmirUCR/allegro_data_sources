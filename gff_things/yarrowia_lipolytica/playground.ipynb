{
 "cells": [
  {
   "cell_type": "code",
   "execution_count": 1,
   "metadata": {},
   "outputs": [],
   "source": [
    "species = ['yarrowia_lipolytica']\n",
    "\n",
    "seven_genes = ['TRP1', 'MET17', 'CAN1', 'URA3', 'GAP1', 'FCY1', 'LYS2']"
   ]
  },
  {
   "cell_type": "code",
   "execution_count": 2,
   "metadata": {},
   "outputs": [],
   "source": [
    "yarrowia_gene_ids = {\n",
    "    'XP_500614.1': 'TRP1',\n",
    "    'XP_500977.1': 'GAP1',\n",
    "    'XP_501094.1': 'CAN1',\n",
    "    'XP_503263.1': 'MET17',\n",
    "    'XP_503627.1': 'LYS2',\n",
    "    'XP_505753.2': 'FCY1'\n",
    "}\n",
    "\n",
    "yarrowia_gene_exons = dict()\n",
    "for k in yarrowia_gene_ids.keys():\n",
    "    yarrowia_gene_exons[k] = 0"
   ]
  },
  {
   "cell_type": "markdown",
   "metadata": {},
   "source": [
    "## S Cerevisiae"
   ]
  },
  {
   "cell_type": "code",
   "execution_count": 3,
   "metadata": {},
   "outputs": [
    {
     "data": {
      "text/plain": [
       "{'XP_500614.1': 1,\n",
       " 'XP_500977.1': 1,\n",
       " 'XP_501094.1': 1,\n",
       " 'XP_503263.1': 1,\n",
       " 'XP_503627.1': 1,\n",
       " 'XP_505753.2': 2}"
      ]
     },
     "execution_count": 3,
     "metadata": {},
     "output_type": "execute_result"
    }
   ],
   "source": [
    "import gffutils\n",
    "\n",
    "fn = 'yarrowia_lipolytica.gff'\n",
    "db = gffutils.create_db(fn, dbfn='yarrowia_lipolytica.db', force=True, merge_strategy='merge')\n",
    "db = gffutils.FeatureDB('yarrowia_lipolytica.db', keep_order=True)\n",
    "\n",
    "for k in yarrowia_gene_exons.keys():\n",
    "    cds_name = 'cds-' + k\n",
    "    gene = db[db[db[cds_name]['Parent'][0]]['Parent'][0]]\n",
    "\n",
    "    exons = list()\n",
    "    for i in db.children(gene, featuretype='exon', order_by='start'):\n",
    "        exons.append(i)\n",
    "\n",
    "    yarrowia_gene_exons[k] = len(exons)\n",
    "\n",
    "yarrowia_gene_exons"
   ]
  }
 ],
 "metadata": {
  "kernelspec": {
   "display_name": "allegro",
   "language": "python",
   "name": "python3"
  },
  "language_info": {
   "codemirror_mode": {
    "name": "ipython",
    "version": 3
   },
   "file_extension": ".py",
   "mimetype": "text/x-python",
   "name": "python",
   "nbconvert_exporter": "python",
   "pygments_lexer": "ipython3",
   "version": "3.10.4"
  }
 },
 "nbformat": 4,
 "nbformat_minor": 2
}
