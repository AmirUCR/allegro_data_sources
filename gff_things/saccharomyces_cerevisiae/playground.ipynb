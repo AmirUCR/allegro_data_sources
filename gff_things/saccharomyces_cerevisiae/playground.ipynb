{
 "cells": [
  {
   "cell_type": "code",
   "execution_count": 1,
   "metadata": {},
   "outputs": [],
   "source": [
    "species = ['saccharomyces_cerevisiae',\n",
    "           'kluyveromyces_marxianus',\n",
    "           'yarrowia_lipolytica',\n",
    "           'komagataella_phaffii']\n",
    "\n",
    "seven_genes = ['TRP1', 'MET17', 'CAN1', 'URA3', 'GAP1', 'FCY1', 'LYS2']"
   ]
  },
  {
   "cell_type": "code",
   "execution_count": 1,
   "metadata": {},
   "outputs": [],
   "source": [
    "saccharomyces_gene_ids = {\n",
    "    'NP_010290.3': 'TRP1',\n",
    "    'NP_013406.1': 'MET17',\n",
    "    'NP_010851.1': 'CAN1',\n",
    "    'NP_010893.3': 'URA3',\n",
    "    'NP_012965.3': 'GAP1',\n",
    "    'NP_015387.1': 'FCY1',\n",
    "    'NP_009673.1': 'LYS2'\n",
    "}\n",
    "\n",
    "saccharomyces_gene_exons = dict()\n",
    "for k in saccharomyces_gene_ids.keys():\n",
    "    saccharomyces_gene_exons[k] = 0\n",
    "\n",
    "yarrowia_gene_ids = {\n",
    "    'XP_500614.1': 'TRP1',\n",
    "    'XP_500977.1': 'GAP1',\n",
    "    'XP_501094.1': 'CAN1',\n",
    "    'XP_503263.1': 'MET17',\n",
    "    'XP_503627.1': 'LYS2',\n",
    "    'XP_505753.2': 'FCY1'\n",
    "}\n",
    "\n",
    "yarrowia_gene_exons = dict()\n",
    "for k in yarrowia_gene_ids.keys():\n",
    "    yarrowia_gene_exons[k] = 0\n",
    "\n",
    "kluyveromyces_gene_ids = {\n",
    "    'XP_022673643.1': 'CAN1',\n",
    "    'XP_022673914.1': 'GAP1',\n",
    "    'XP_022674188.1': 'MET17',\n",
    "    'XP_022674242.1': 'URA3',\n",
    "    'XP_022677214.1': 'TRP1',\n",
    "    'XP_022678348.1': 'LYS2',\n",
    "    'XP_022678383.1': 'FCY1'\n",
    "}\n",
    "\n",
    "kluyveromyces_gene_exons = dict()\n",
    "for k in kluyveromyces_gene_ids.keys():\n",
    "    kluyveromyces_gene_exons[k] = 0\n",
    "\n",
    "komagataella_gene_ids = {\n",
    "    'XP_002489365.1': 'TRP1',\n",
    "    'XP_002489665.1': 'GAP1',\n",
    "    'XP_002490264.1': 'LYS2',\n",
    "    'XP_002490740.1': 'CAN1',\n",
    "    'XP_002490927.1': 'FCY1',\n",
    "    'XP_002492605.1': 'URA3',\n",
    "    'XP_002493751.1': 'MET17',\n",
    "}\n",
    "\n",
    "komagataella_gene_exons = dict()\n",
    "for k in komagataella_gene_ids.keys():\n",
    "    komagataella_gene_exons[k] = 0"
   ]
  },
  {
   "cell_type": "markdown",
   "metadata": {},
   "source": [
    "## S Cerevisiae"
   ]
  },
  {
   "cell_type": "code",
   "execution_count": 2,
   "metadata": {},
   "outputs": [
    {
     "data": {
      "text/plain": [
       "{'NP_010290.3': 1,\n",
       " 'NP_013406.1': 1,\n",
       " 'NP_010851.1': 1,\n",
       " 'NP_010893.3': 1,\n",
       " 'NP_012965.3': 1,\n",
       " 'NP_015387.1': 1,\n",
       " 'NP_009673.1': 1}"
      ]
     },
     "execution_count": 2,
     "metadata": {},
     "output_type": "execute_result"
    }
   ],
   "source": [
    "import gffutils\n",
    "\n",
    "fn = 'saccharomyces_cerevisiae.gff'\n",
    "db = gffutils.create_db(fn, dbfn='saccharomyces_cerevisiae.db', force=True, merge_strategy='merge')\n",
    "db = gffutils.FeatureDB('saccharomyces_cerevisiae.db', keep_order=True)\n",
    "\n",
    "for k in saccharomyces_gene_exons.keys():\n",
    "    cds_name = 'cds-' + k\n",
    "    gene = db[db[db[cds_name]['Parent'][0]]['Parent'][0]]\n",
    "\n",
    "    exons = list()\n",
    "    for i in db.children(gene, featuretype='exon', order_by='start'):\n",
    "        exons.append(i)\n",
    "\n",
    "    saccharomyces_gene_exons[k] = len(exons)\n",
    "\n",
    "saccharomyces_gene_exons"
   ]
  }
 ],
 "metadata": {
  "kernelspec": {
   "display_name": "allegro",
   "language": "python",
   "name": "python3"
  },
  "language_info": {
   "codemirror_mode": {
    "name": "ipython",
    "version": 3
   },
   "file_extension": ".py",
   "mimetype": "text/x-python",
   "name": "python",
   "nbconvert_exporter": "python",
   "pygments_lexer": "ipython3",
   "version": "3.10.4"
  }
 },
 "nbformat": 4,
 "nbformat_minor": 2
}
