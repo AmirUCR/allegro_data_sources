{
 "cells": [
  {
   "cell_type": "code",
   "execution_count": 1,
   "metadata": {},
   "outputs": [],
   "source": [
    "species = ['komagataella_phaffii']\n",
    "seven_genes = ['TRP1', 'MET17', 'CAN1', 'URA3', 'GAP1', 'FCY1', 'LYS2']"
   ]
  },
  {
   "cell_type": "code",
   "execution_count": 2,
   "metadata": {},
   "outputs": [],
   "source": [
    "komagataella_gene_ids = {\n",
    "    'XP_002489365.1': 'TRP1',\n",
    "    'XP_002489665.1': 'GAP1',\n",
    "    'XP_002490264.1': 'LYS2',\n",
    "    'XP_002490740.1': 'CAN1',\n",
    "    'XP_002490927.1': 'FCY1',\n",
    "    'XP_002492605.1': 'URA3',\n",
    "    'XP_002493751.1': 'MET17',\n",
    "}\n",
    "\n",
    "komagataella_gene_exons = dict()\n",
    "for k in komagataella_gene_ids.keys():\n",
    "    komagataella_gene_exons[k] = 0"
   ]
  },
  {
   "cell_type": "markdown",
   "metadata": {},
   "source": [
    "## K Phaffii"
   ]
  },
  {
   "cell_type": "code",
   "execution_count": 3,
   "metadata": {},
   "outputs": [
    {
     "data": {
      "text/plain": [
       "{'XP_002489365.1': 1,\n",
       " 'XP_002489665.1': 1,\n",
       " 'XP_002490264.1': 1,\n",
       " 'XP_002490740.1': 1,\n",
       " 'XP_002490927.1': 1,\n",
       " 'XP_002492605.1': 1,\n",
       " 'XP_002493751.1': 1}"
      ]
     },
     "execution_count": 3,
     "metadata": {},
     "output_type": "execute_result"
    }
   ],
   "source": [
    "import gffutils\n",
    "\n",
    "fn = 'komagataella_phaffii.gff'\n",
    "db = gffutils.create_db(fn, dbfn='komagataella_phaffii.db', force=True, merge_strategy='merge')\n",
    "db = gffutils.FeatureDB('komagataella_phaffii.db', keep_order=True)\n",
    "\n",
    "for k in komagataella_gene_exons.keys():\n",
    "    cds_name = 'cds-' + k\n",
    "    gene = db[db[db[cds_name]['Parent'][0]]['Parent'][0]]\n",
    "\n",
    "    exons = list()\n",
    "    for i in db.children(gene, featuretype='exon', order_by='start'):\n",
    "        exons.append(i)\n",
    "\n",
    "    komagataella_gene_exons[k] = len(exons)\n",
    "\n",
    "komagataella_gene_exons"
   ]
  }
 ],
 "metadata": {
  "kernelspec": {
   "display_name": "allegro",
   "language": "python",
   "name": "python3"
  },
  "language_info": {
   "codemirror_mode": {
    "name": "ipython",
    "version": 3
   },
   "file_extension": ".py",
   "mimetype": "text/x-python",
   "name": "python",
   "nbconvert_exporter": "python",
   "pygments_lexer": "ipython3",
   "version": "3.10.4"
  }
 },
 "nbformat": 4,
 "nbformat_minor": 2
}
